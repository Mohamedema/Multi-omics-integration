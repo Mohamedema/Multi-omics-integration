{
 "cells": [
  {
   "cell_type": "code",
   "execution_count": 1,
   "id": "bbdb4529",
   "metadata": {},
   "outputs": [
    {
     "name": "stderr",
     "output_type": "stream",
     "text": [
      "C:\\Users\\mmansour\\Anaconda3\\lib\\site-packages\\IPython\\core\\interactiveshell.py:3165: DtypeWarning: Columns (1) have mixed types.Specify dtype option on import or set low_memory=False.\n",
      "  has_raised = await self.run_ast_nodes(code_ast.body, cell_name,\n",
      "C:\\Users\\mmansour\\Anaconda3\\lib\\site-packages\\IPython\\core\\interactiveshell.py:3357: DtypeWarning: Columns (1) have mixed types.Specify dtype option on import or set low_memory=False.\n",
      "  if (await self.run_code(code, result,  async_=asy)):\n"
     ]
    }
   ],
   "source": [
    "###################\n",
    "#Lenovo L13       #\n",
    "#python version3  #\n",
    "#Mohamed Emam     #\n",
    "#Protein filter   #\n",
    "###################\n",
    "#Import library\n",
    "import pandas as pd\n",
    "import glob\n",
    "import pandas as pd\n",
    "#Read the file\n",
    "sample_one= pd.read_csv(\"/Users/mmansour/Downloads/Count_table/NG-19167_Raf001_lib323702_6346_5_1 (GE).csv\")\n",
    "path = \"/Users/mmansour/Downloads/Count_table/\"\n",
    "csv_files = glob.glob(path + \"/*.csv\")\n",
    "df_list = (pd.read_csv(file) for file in csv_files)\n",
    "mRNA= sample_one[[\"Unique gene reads\"]]\n",
    "for i in df_list:  \n",
    "    sample_i=i[[\"Unique gene reads\"]]\n",
    "    mRNA = pd.concat([mRNA,sample_i], axis=1, join=\"inner\")\n",
    "mRNA.index= sample_one[\"Name\"]\n",
    "mRNA= mRNA.iloc[: , 1:]\n",
    "meta_data= pd.read_excel(\"/Users/mmansour/Downloads/mRNA_brain_dataset.xlsx\")\n",
    "meta_data[\"Description\"]\n",
    "mRNA.columns = meta_data[\"Description\"]\n",
    "#Export_csv\n",
    "mRNA.to_csv(\"/Users/mmansour/Desktop/RNA_filtered.csv\", index=True)"
   ]
  },
  {
   "cell_type": "code",
   "execution_count": 2,
   "id": "09a449af",
   "metadata": {},
   "outputs": [],
   "source": [
    "mRNA_data= pd.read_csv(\"/Users/mmansour/Desktop/RNA_filtered.csv\")\n",
    "mRNA_data['Total'] = mRNA_data.sum(axis=1)\n",
    "filter_features  = mRNA_data.loc[mRNA_data['Total'] < 10]\n",
    "filter_features\n",
    "mRNA_features_index = filter_features.index\n",
    "index_list = list(mRNA_features_index)\n",
    "mRNA_data = mRNA_data.drop(mRNA_data.index[index_list])\n",
    "mRNA_data = mRNA_data.iloc[0:, 0:(len(mRNA_data.columns)-1)]\n",
    "mRNA_data.index = mRNA_data[\"Name\"]\n",
    "mRNA_data = mRNA_data.iloc[0:, 1:(len(mRNA_data.columns))]\n",
    "#Export_csv\n",
    "mRNA_data.to_csv(\"/Users/mmansour/Desktop/RNA_filtered_final.csv\", index=False)"
   ]
  },
  {
   "cell_type": "code",
   "execution_count": null,
   "id": "5b091186",
   "metadata": {},
   "outputs": [],
   "source": []
  }
 ],
 "metadata": {
  "kernelspec": {
   "display_name": "Python 3",
   "language": "python",
   "name": "python3"
  },
  "language_info": {
   "codemirror_mode": {
    "name": "ipython",
    "version": 3
   },
   "file_extension": ".py",
   "mimetype": "text/x-python",
   "name": "python",
   "nbconvert_exporter": "python",
   "pygments_lexer": "ipython3",
   "version": "3.8.8"
  }
 },
 "nbformat": 4,
 "nbformat_minor": 5
}
