{
 "cells": [
  {
   "cell_type": "code",
   "execution_count": 1,
   "id": "bbdb4529",
   "metadata": {},
   "outputs": [
    {
     "data": {
      "text/html": [
       "<div>\n",
       "<style scoped>\n",
       "    .dataframe tbody tr th:only-of-type {\n",
       "        vertical-align: middle;\n",
       "    }\n",
       "\n",
       "    .dataframe tbody tr th {\n",
       "        vertical-align: top;\n",
       "    }\n",
       "\n",
       "    .dataframe thead th {\n",
       "        text-align: right;\n",
       "    }\n",
       "</style>\n",
       "<table border=\"1\" class=\"dataframe\">\n",
       "  <thead>\n",
       "    <tr style=\"text-align: right;\">\n",
       "      <th></th>\n",
       "      <th>Features_name</th>\n",
       "      <th>1</th>\n",
       "      <th>2</th>\n",
       "      <th>3</th>\n",
       "      <th>4</th>\n",
       "      <th>6</th>\n",
       "      <th>8</th>\n",
       "      <th>9</th>\n",
       "      <th>11</th>\n",
       "      <th>13</th>\n",
       "      <th>...</th>\n",
       "      <th>36</th>\n",
       "      <th>38</th>\n",
       "      <th>39</th>\n",
       "      <th>40</th>\n",
       "      <th>43</th>\n",
       "      <th>44</th>\n",
       "      <th>45</th>\n",
       "      <th>46</th>\n",
       "      <th>48</th>\n",
       "      <th>Total</th>\n",
       "    </tr>\n",
       "  </thead>\n",
       "  <tbody>\n",
       "  </tbody>\n",
       "</table>\n",
       "<p>0 rows × 33 columns</p>\n",
       "</div>"
      ],
      "text/plain": [
       "Empty DataFrame\n",
       "Columns: [Features_name, 1, 2, 3, 4, 6, 8, 9, 11, 13, 15, 18, 19, 20, 21, 23, 24, 26, 28, 30, 32, 33, 34, 36, 38, 39, 40, 43, 44, 45, 46, 48, Total]\n",
       "Index: []\n",
       "\n",
       "[0 rows x 33 columns]"
      ]
     },
     "execution_count": 1,
     "metadata": {},
     "output_type": "execute_result"
    }
   ],
   "source": [
    "###################\n",
    "#Lenovo L13       #\n",
    "#python version3  #\n",
    "#Mohamed Emam     #\n",
    "#Protein filter   #\n",
    "###################\n",
    "#Import library\n",
    "import pandas as pd\n",
    "#Read the file\n",
    "mRNA_data= pd.read_csv(\"/Users/mmansour/Desktop/mRNA_data.csv\")\n",
    "mRNA_data['Total'] = mRNA_data.sum(axis=1)\n",
    "filter_features  = mRNA_data.loc[mRNA_data['Total'] < 10]\n",
    "filter_features"
   ]
  },
  {
   "cell_type": "code",
   "execution_count": 2,
   "id": "666d76ea",
   "metadata": {},
   "outputs": [],
   "source": [
    "mRNA_features_index = filter_features.index\n",
    "index_list = list(mRNA_features_index)\n",
    "mRNA_data = mRNA_data.drop(mRNA_data.index[index_list])\n",
    "mRNA_data = mRNA_data.iloc[0:, 0:(len(mRNA_data.columns)-1)]\n",
    "#Export_csv\n",
    "mRNA_data.to_csv(\"/Users/mmansour/Desktop/RNA_filtered.csv\", index=False)"
   ]
  },
  {
   "cell_type": "code",
   "execution_count": null,
   "id": "b4d08a82",
   "metadata": {
    "scrolled": true
   },
   "outputs": [],
   "source": []
  },
  {
   "cell_type": "code",
   "execution_count": 198,
   "id": "09a449af",
   "metadata": {},
   "outputs": [],
   "source": [
    "\n"
   ]
  },
  {
   "cell_type": "code",
   "execution_count": null,
   "id": "f43137fb",
   "metadata": {},
   "outputs": [],
   "source": []
  },
  {
   "cell_type": "code",
   "execution_count": null,
   "id": "e65b4d99",
   "metadata": {},
   "outputs": [],
   "source": []
  }
 ],
 "metadata": {
  "kernelspec": {
   "display_name": "Python 3",
   "language": "python",
   "name": "python3"
  },
  "language_info": {
   "codemirror_mode": {
    "name": "ipython",
    "version": 3
   },
   "file_extension": ".py",
   "mimetype": "text/x-python",
   "name": "python",
   "nbconvert_exporter": "python",
   "pygments_lexer": "ipython3",
   "version": "3.8.8"
  }
 },
 "nbformat": 4,
 "nbformat_minor": 5
}
